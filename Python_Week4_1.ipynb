{
 "cells": [
  {
   "cell_type": "code",
   "execution_count": 1,
   "id": "98d7bbd1",
   "metadata": {},
   "outputs": [
    {
     "name": "stdout",
     "output_type": "stream",
     "text": [
      "3\n"
     ]
    }
   ],
   "source": [
    "x = 1\n",
    "x = x+2\n",
    "print(x)"
   ]
  },
  {
   "cell_type": "code",
   "execution_count": 2,
   "id": "7713adad",
   "metadata": {},
   "outputs": [
    {
     "name": "stdout",
     "output_type": "stream",
     "text": [
      "EveMarealle\n"
     ]
    }
   ],
   "source": [
    "a = 'Eve' + 'Marealle'\n",
    "print(a)"
   ]
  },
  {
   "cell_type": "code",
   "execution_count": 3,
   "id": "6bea4b83",
   "metadata": {},
   "outputs": [
    {
     "name": "stdout",
     "output_type": "stream",
     "text": [
      "4\n"
     ]
    }
   ],
   "source": [
    "xx = 2\n",
    "\n",
    "xx = 2* xx\n",
    "print (xx)"
   ]
  },
  {
   "cell_type": "code",
   "execution_count": 4,
   "id": "dff68ccf",
   "metadata": {},
   "outputs": [
    {
     "name": "stdout",
     "output_type": "stream",
     "text": [
      "5\n"
     ]
    }
   ],
   "source": [
    "#ONLY RETURNS THE REMAINDER\n",
    "y=5\n",
    "r = 7\n",
    "z = y%r\n",
    "print (z)"
   ]
  },
  {
   "cell_type": "code",
   "execution_count": null,
   "id": "963250ab",
   "metadata": {},
   "outputs": [],
   "source": []
  },
  {
   "cell_type": "code",
   "execution_count": null,
   "id": "3bd71c69",
   "metadata": {},
   "outputs": [],
   "source": []
  },
  {
   "cell_type": "code",
   "execution_count": 5,
   "id": "b3d4f676",
   "metadata": {},
   "outputs": [
    {
     "data": {
      "text/plain": [
       "int"
      ]
     },
     "execution_count": 5,
     "metadata": {},
     "output_type": "execute_result"
    }
   ],
   "source": [
    "type (1)"
   ]
  },
  {
   "cell_type": "code",
   "execution_count": 6,
   "id": "091ffbc9",
   "metadata": {},
   "outputs": [
    {
     "data": {
      "text/plain": [
       "int"
      ]
     },
     "execution_count": 6,
     "metadata": {},
     "output_type": "execute_result"
    }
   ],
   "source": [
    "E = 1\n",
    "type (E)"
   ]
  },
  {
   "cell_type": "code",
   "execution_count": 7,
   "id": "f7be618e",
   "metadata": {},
   "outputs": [
    {
     "name": "stdout",
     "output_type": "stream",
     "text": [
      "299.0\n"
     ]
    }
   ],
   "source": [
    "print (float(99)+200)"
   ]
  },
  {
   "cell_type": "code",
   "execution_count": 8,
   "id": "f86cf026",
   "metadata": {},
   "outputs": [
    {
     "name": "stdout",
     "output_type": "stream",
     "text": [
      "42.0\n"
     ]
    }
   ],
   "source": [
    "i =42\n",
    "f = float (i)\n",
    "print (f)"
   ]
  },
  {
   "cell_type": "code",
   "execution_count": 9,
   "id": "ed68c714",
   "metadata": {},
   "outputs": [
    {
     "name": "stdout",
     "output_type": "stream",
     "text": [
      "4.5\n"
     ]
    }
   ],
   "source": [
    "print (9/2)"
   ]
  },
  {
   "cell_type": "code",
   "execution_count": 10,
   "id": "23fad7b6",
   "metadata": {},
   "outputs": [
    {
     "name": "stdout",
     "output_type": "stream",
     "text": [
      "5.0\n"
     ]
    }
   ],
   "source": [
    "print (10/2)"
   ]
  },
  {
   "cell_type": "code",
   "execution_count": 11,
   "id": "0c1d1239",
   "metadata": {},
   "outputs": [
    {
     "name": "stdout",
     "output_type": "stream",
     "text": [
      "5.0\n"
     ]
    }
   ],
   "source": [
    "print (10.0/2.0)"
   ]
  },
  {
   "cell_type": "code",
   "execution_count": 12,
   "id": "0b7c2e65",
   "metadata": {},
   "outputs": [
    {
     "name": "stdout",
     "output_type": "stream",
     "text": [
      "who are you?eva\n",
      "welcome eva\n"
     ]
    }
   ],
   "source": [
    "#input inapause afu inaacha ujibu\n",
    "nam = input(\"who are you?\")\n",
    "print (\"welcome\", nam) #the space here will result in welcome Chuck not welcomechuck AFTER WRITING NAME TYPE ENTER\n"
   ]
  },
  {
   "cell_type": "code",
   "execution_count": 13,
   "id": "d457e28b",
   "metadata": {},
   "outputs": [
    {
     "name": "stdout",
     "output_type": "stream",
     "text": [
      "123\n",
      "124\n"
     ]
    }
   ],
   "source": [
    "#changing a string to input to be used for calculations\n",
    "string = \"123\"\n",
    "type (string)\n",
    "integer = int (string)\n",
    "print (integer)\n",
    "print (integer+1)"
   ]
  },
  {
   "cell_type": "code",
   "execution_count": 14,
   "id": "060994c8",
   "metadata": {},
   "outputs": [
    {
     "name": "stdout",
     "output_type": "stream",
     "text": [
      "Europefloors34\n",
      "USFLOOR 35\n"
     ]
    }
   ],
   "source": [
    "#convert elevators floors\n",
    "inp = input (\"Europefloors\")\n",
    "US = int (inp) +1\n",
    "print (\"USFLOOR\", US)"
   ]
  },
  {
   "cell_type": "code",
   "execution_count": 15,
   "id": "327b27c9",
   "metadata": {},
   "outputs": [
    {
     "name": "stdout",
     "output_type": "stream",
     "text": [
      "123abc\n"
     ]
    }
   ],
   "source": [
    "#ASSIGNMENT\n",
    "print(\"123\" + \"abc\")"
   ]
  },
  {
   "cell_type": "code",
   "execution_count": 16,
   "id": "736b1bbc",
   "metadata": {},
   "outputs": [
    {
     "ename": "SyntaxError",
     "evalue": "invalid syntax (2016792053.py, line 2)",
     "output_type": "error",
     "traceback": [
      "\u001b[0;36m  File \u001b[0;32m\"/var/folders/fn/ylnlt8hn2q5gy7bkjbg7v3_40000gn/T/ipykernel_76793/2016792053.py\"\u001b[0;36m, line \u001b[0;32m2\u001b[0m\n\u001b[0;31m    23SPAM = 3\u001b[0m\n\u001b[0m      ^\u001b[0m\n\u001b[0;31mSyntaxError\u001b[0m\u001b[0;31m:\u001b[0m invalid syntax\n"
     ]
    }
   ],
   "source": [
    "#BAD VARIABLENAME variable name can start with underscore or letter but not a number\n",
    "23SPAM = 3\n",
    "print (23SPAM)"
   ]
  },
  {
   "cell_type": "code",
   "execution_count": null,
   "id": "7c99cbc9",
   "metadata": {},
   "outputs": [],
   "source": [
    "print (42 % 10)"
   ]
  },
  {
   "cell_type": "code",
   "execution_count": null,
   "id": "9ac26b7d",
   "metadata": {},
   "outputs": [],
   "source": [
    "print  (1 + 2 * 3 - 8 / 4)"
   ]
  },
  {
   "cell_type": "code",
   "execution_count": null,
   "id": "9b1bdfdf",
   "metadata": {},
   "outputs": [],
   "source": [
    "print(int(98.6))"
   ]
  },
  {
   "cell_type": "code",
   "execution_count": null,
   "id": "9ad7fd8a",
   "metadata": {},
   "outputs": [],
   "source": [
    "name = input (\"who are you\")\n",
    "print (\"Good to see you\", name)"
   ]
  },
  {
   "cell_type": "code",
   "execution_count": null,
   "id": "582f1f04",
   "metadata": {},
   "outputs": [],
   "source": [
    "#Write a program to prompt the user for hours and rate per hour using input to compute gross pay. Use 35 hours and a rate of 2.75 per hour to test the program (the pay should be 96.25). You should use input to read a string and float() to convert the string to a number. Do not worry about error checking or bad user data.\n",
    "  \n",
    "# This first line is provided for you\n",
    "\n",
    "  \n",
    "hrs = input(\"Enter Hours:\")\n",
    "rate = input(\"Enter rate:\")\n",
    "Pay_is = float (hrs) * float (rate)\n",
    "print (\"Pay:\", Pay_is)"
   ]
  },
  {
   "cell_type": "code",
   "execution_count": null,
   "id": "044356ec",
   "metadata": {},
   "outputs": [],
   "source": []
  },
  {
   "cell_type": "code",
   "execution_count": null,
   "id": "95134aa9",
   "metadata": {},
   "outputs": [],
   "source": []
  }
 ],
 "metadata": {
  "kernelspec": {
   "display_name": "Python 3 (ipykernel)",
   "language": "python",
   "name": "python3"
  },
  "language_info": {
   "codemirror_mode": {
    "name": "ipython",
    "version": 3
   },
   "file_extension": ".py",
   "mimetype": "text/x-python",
   "name": "python",
   "nbconvert_exporter": "python",
   "pygments_lexer": "ipython3",
   "version": "3.9.7"
  }
 },
 "nbformat": 4,
 "nbformat_minor": 5
}
